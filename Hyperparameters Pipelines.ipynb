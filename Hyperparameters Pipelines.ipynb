{
 "cells": [
  {
   "cell_type": "code",
   "execution_count": 1,
   "metadata": {},
   "outputs": [],
   "source": [
    "import numpy as np\n",
    "import pandas as pd\n",
    "import matplotlib.pyplot as plt\n",
    "%matplotlib inline\n",
    "\n",
    "import random\n",
    "np.random.seed(123)\n",
    "random.seed(123)\n",
    "\n",
    "import warnings\n",
    "warnings.filterwarnings('ignore')"
   ]
  },
  {
   "cell_type": "markdown",
   "metadata": {},
   "source": [
    "There are several parameters in ML models that must be selected before a model fits to a dataset. These parameters are things like regularization parameters in logistic regresssion and decision trees, or model-specific attributes like the K in KNN."
   ]
  },
  {
   "cell_type": "markdown",
   "metadata": {},
   "source": [
    "These are called **hyperparameters** and they are selected *before fitting models to the data* and remain *unchanged* after the fitting is complete."
   ]
  },
  {
   "cell_type": "markdown",
   "metadata": {},
   "source": [
    "How do we decide what values to select to ensure good model performance?\n",
    "\n",
    "- We cannot use training set as models will likely overfit to it.\n",
    "\n",
    "- We must not use the test set as it is supposed to simulate the unseen real-time data.\n",
    "\n",
    "##### We choose the hyperparameters using a 'validation set', which is a further divide of the training dataset."
   ]
  },
  {
   "cell_type": "markdown",
   "metadata": {},
   "source": [
    "**Training Set**\n",
    "\n",
    "    -Fit the model to this data.\n",
    "    -Model specific hyperparameters are chosen.\n",
    "    \n",
    "**Validation Set**\n",
    "\n",
    "    -Used to tune the model's hyperparameters.\n",
    "    -This serves as a somewhat unbiased estimate of model's performance.\n",
    "    \n",
    "**Test Set**\n",
    "\n",
    "    -The tuned hyperparameters from validation set are then used for test set to get final outputs\n",
    "    -This serves as a totally unbiased estimate of model's performance on new data.\n",
    "    \n",
    "    \n",
    "    \n",
    "**Important gist**: Train & validation sets are used to **tune parameters** of the model. The test set should **never** be used to tune them; only completely tuned model should see the test data. Before a model is used on the test set, it is fixed and will not be tuned anymore.\n",
    "\n",
    "As an example, we can split the data 80-20 as:\n",
    "\n",
    "**Train+Validation set** containing 80% of the data\n",
    "\n",
    "**Test set** containing 20% of the data\n",
    "\n",
    "We keep the 20% test set aside and dont touch it. We then further split train+validation into say 70-30 meaning 70% of the main Train+Validation set (80%) will be assigned to the train set and 30% of 80% will be assigned to validation set."
   ]
  },
  {
   "cell_type": "markdown",
   "metadata": {},
   "source": [
    "#### Implementation\n"
   ]
  },
  {
   "cell_type": "code",
   "execution_count": 9,
   "metadata": {},
   "outputs": [
    {
     "name": "stdout",
     "output_type": "stream",
     "text": [
      "(569, 30)\n",
      "(569,)\n"
     ]
    }
   ],
   "source": [
    "from sklearn.datasets import load_breast_cancer\n",
    "\n",
    "cancer = load_breast_cancer()\n",
    "X = cancer.data\n",
    "y = cancer.target\n",
    "\n",
    "print(X.shape)\n",
    "print(y.shape)"
   ]
  },
  {
   "cell_type": "code",
   "execution_count": 8,
   "metadata": {},
   "outputs": [],
   "source": [
    "# splitting the dataset into 80-20\n",
    "# 20% is test data\n",
    "# 80% is train+validation data\n",
    "# train+validation is assigned as X_remainder, y_remainder\n",
    "\n",
    "from sklearn.model_selection import train_test_split\n",
    "\n",
    "X_remainder, X_test, y_remainder, y_test = train_test_split(X, y, test_size=0.2, random_state=42)"
   ]
  },
  {
   "cell_type": "code",
   "execution_count": 12,
   "metadata": {},
   "outputs": [],
   "source": [
    "# splitting train+validation further into 70-30 component\n",
    "\n",
    "X_train, X_validation, y_train, y_validation = \\\n",
    "    train_test_split(X_remainder, y_remainder, test_size=0.3, random_state=42)"
   ]
  },
  {
   "cell_type": "markdown",
   "metadata": {},
   "source": [
    "- Let's use the train and validation data to find best hyperparameter in logistic regression"
   ]
  },
  {
   "cell_type": "code",
   "execution_count": 22,
   "metadata": {},
   "outputs": [],
   "source": [
    "from sklearn.linear_model import LogisticRegression\n",
    "\n",
    "train_score = []\n",
    "validation_score = []\n",
    "\n",
    "C_values = np.array([.00000001,.0000001,.000001,.00001,.0001,.001,0.1,\\\n",
    "                1,10,100,1000,10000,100000,1000000,10000000,100000000,1000000000])\n",
    "\n",
    "# iterating over all the C values for logistic regression\n",
    "for value in C_values:\n",
    "    logreg = LogisticRegression(C = value, random_state=1)\n",
    "    logreg.fit(X_train, y_train) #fitting on train data\n",
    "    \n",
    "    tscore = logreg.score(X_train, y_train) #scoring on train data\n",
    "    vscore = logreg.score(X_validation, y_validation) #scoring on validation data\n",
    "    \n",
    "    train_score.append(tscore) #adding train score at each C value to the list\n",
    "    validation_score.append(vscore) #adding validation score at each C value to the list"
   ]
  },
  {
   "cell_type": "code",
   "execution_count": 23,
   "metadata": {},
   "outputs": [
    {
     "data": {
      "image/png": "[encoded data removed]",
      "text/plain": [
       "<Figure size 432x288 with 1 Axes>"
      ]
     },
     "metadata": {
      "needs_background": "light"
     },
     "output_type": "display_data"
    }
   ],
   "source": [
    "# plotting the model accuracy at each C value\n",
    "\n",
    "plt.figure()\n",
    "plt.plot(C_values, train_score, label='Train data score', marker='.')\n",
    "plt.plot(C_values, validation_score, label='Validation data score', marker='.')\n",
    "plt.xscale('log')\n",
    "plt.xlabel('C')\n",
    "plt.ylabel('Accuracy')\n",
    "plt.legend()\n",
    "plt.show()"
   ]
  },
  {
   "cell_type": "markdown",
   "metadata": {},
   "source": [
    "- Based on this plot, it seems that at C = 10, the model achieved best performance.\n",
    "\n",
    "- Using this information, we can take the test data and evaluate model's accuracy on the unseen data. For the final logistic regression with C=10, we actually retrain the model on Train+Validation data aka _remainder data_ and then get the prediction on test set"
   ]
  },
  {
   "cell_type": "code",
   "execution_count": 24,
   "metadata": {},
   "outputs": [
    {
     "data": {
      "text/plain": [
       "0.9736842105263158"
      ]
     },
     "execution_count": 24,
     "metadata": {},
     "output_type": "execute_result"
    }
   ],
   "source": [
    "final_logreg = LogisticRegression(C=10, random_state=1)\n",
    "\n",
    "# X_remainder, y_remainder held the original split data\n",
    "final_logreg.fit(X_remainder, y_remainder)\n",
    "\n",
    "# scoring on test set\n",
    "final_logreg.score(X_test, y_test)"
   ]
  },
  {
   "cell_type": "markdown",
   "metadata": {},
   "source": [
    "#### Summary of the parameter optimization workflow\n",
    "\n",
    "**Step1**: Split the original data into training and test set, keep the test set aside.\n",
    "\n",
    "**Step2**: Split the training set further in train componet and validation component. Here train component acts as original training set and validation set act as the test set.\n",
    "\n",
    "**Step3**: Fit the model on the train component and choose the best parameter using the validation component.\n",
    "\n",
    "**Step4**: Using the chosen paramter, refit the model with original splitted training set and check the model's performance using the unseen test set."
   ]
  },
  {
   "cell_type": "code",
   "execution_count": null,
   "metadata": {},
   "outputs": [],
   "source": []
  }
 ],
 "metadata": {
  "kernelspec": {
   "display_name": "Python 3",
   "language": "python",
   "name": "python3"
  },
  "language_info": {
   "codemirror_mode": {
    "name": "ipython",
    "version": 3
   },
   "file_extension": ".py",
   "mimetype": "text/x-python",
   "name": "python",
   "nbconvert_exporter": "python",
   "pygments_lexer": "ipython3",
   "version": "3.7.6"
  }
 },
 "nbformat": 4,
 "nbformat_minor": 4
}
