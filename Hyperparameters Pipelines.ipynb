{
 "cells": [
  {
   "cell_type": "code",
   "execution_count": 1,
   "metadata": {},
   "outputs": [],
   "source": [
    "import numpy as np\n",
    "import pandas as pd\n",
    "import matplotlib.pyplot as plt\n",
    "%matplotlib inline\n",
    "\n",
    "import random\n",
    "np.random.seed(123)\n",
    "random.seed(123)\n",
    "\n",
    "import warnings\n",
    "warnings.filterwarnings('ignore')"
   ]
  },
  {
   "cell_type": "markdown",
   "metadata": {},
   "source": [
    "There are several parameters in ML models that must be selected before a model fits to a dataset. These parameters are things like regularization parameters in logistic regresssion and decision trees, or model-specific attributes like the K in KNN."
   ]
  },
  {
   "cell_type": "markdown",
   "metadata": {},
   "source": [
    "These are called **hyperparameters** and they are selected *before fitting models to the data* and remain *unchanged* after the fitting is complete."
   ]
  },
  {
   "cell_type": "markdown",
   "metadata": {},
   "source": [
    "How do we decide what values to select to ensure good model performance?\n",
    "\n",
    "- We cannot use training set as models will likely overfit to it.\n",
    "\n",
    "- We must not use the test set as it is supposed to simulate the unseen real-time data.\n",
    "\n",
    "##### We choose the hyperparameters using a 'validation set', which is a further divide of the training dataset."
   ]
  },
  {
   "cell_type": "markdown",
   "metadata": {},
   "source": [
    "**Training Set**\n",
    "\n",
    "    -Fit the model to this data.\n",
    "    -Model specific hyperparameters are chosen.\n",
    "    \n",
    "**Validation Set**\n",
    "\n",
    "    -Used to tune the model's hyperparameters.\n",
    "    -This serves as a somewhat unbiased estimate of model's performance.\n",
    "    \n",
    "**Test Set**\n",
    "\n",
    "    -The tuned hyperparameters from validation set are then used for test set to get final outputs\n",
    "    -This serves as a totally unbiased estimate of model's performance on new data.\n",
    "    \n",
    "    \n",
    "    \n",
    "**Important gist**: Train & validation sets are used to **tune parameters** of the model. The test set should **never** be used to tune them; only completely tuned model should see the test data. Before a model is used on the test set, it is fixed and will not be tuned anymore.\n",
    "\n",
    "As an example, we can split the data 80-20 as:\n",
    "\n",
    "**Train+Validation set** containing 80% of the data\n",
    "\n",
    "**Test set** containing 20% of the data\n",
    "\n",
    "We keep the 20% test set aside and dont touch it. We then further split train+validation into say 70-30 meaning 70% of the main Train+Validation set (80%) will be assigned to the train set and 30% of 80% will be assigned to validation set."
   ]
  },
  {
   "cell_type": "markdown",
   "metadata": {},
   "source": [
    "#### Implementation\n"
   ]
  },
  {
   "cell_type": "code",
   "execution_count": 2,
   "metadata": {},
   "outputs": [
    {
     "name": "stdout",
     "output_type": "stream",
     "text": [
      "(569, 30)\n",
      "(569,)\n"
     ]
    }
   ],
   "source": [
    "from sklearn.datasets import load_breast_cancer\n",
    "\n",
    "cancer = load_breast_cancer()\n",
    "X = cancer.data\n",
    "y = cancer.target\n",
    "\n",
    "print(X.shape)\n",
    "print(y.shape)"
   ]
  },
  {
   "cell_type": "code",
   "execution_count": 3,
   "metadata": {},
   "outputs": [],
   "source": [
    "# splitting the dataset into 80-20\n",
    "# 20% is test data\n",
    "# 80% is train+validation data\n",
    "# train+validation is assigned as X_remainder, y_remainder\n",
    "\n",
    "from sklearn.model_selection import train_test_split\n",
    "\n",
    "X_remainder, X_test, y_remainder, y_test = train_test_split(X, y, test_size=0.2, random_state=42)"
   ]
  },
  {
   "cell_type": "code",
   "execution_count": 4,
   "metadata": {},
   "outputs": [],
   "source": [
    "# splitting train+validation further into 70-30 component\n",
    "\n",
    "X_train, X_validation, y_train, y_validation = \\\n",
    "    train_test_split(X_remainder, y_remainder, test_size=0.3, random_state=42)"
   ]
  },
  {
   "cell_type": "markdown",
   "metadata": {},
   "source": [
    "- Let's use the train and validation data to find best hyperparameter in logistic regression"
   ]
  },
  {
   "cell_type": "code",
   "execution_count": 5,
   "metadata": {},
   "outputs": [],
   "source": [
    "from sklearn.linear_model import LogisticRegression\n",
    "\n",
    "train_score = []\n",
    "validation_score = []\n",
    "\n",
    "C_values = np.array([.00000001,.0000001,.000001,.00001,.0001,.001,0.1,\\\n",
    "                1,10,100,1000,10000,100000,1000000,10000000,100000000,1000000000])\n",
    "\n",
    "# iterating over all the C values for logistic regression\n",
    "for value in C_values:\n",
    "    logreg = LogisticRegression(C = value, random_state=1)\n",
    "    logreg.fit(X_train, y_train) #fitting on train data\n",
    "    \n",
    "    tscore = logreg.score(X_train, y_train) #scoring on train data\n",
    "    vscore = logreg.score(X_validation, y_validation) #scoring on validation data\n",
    "    \n",
    "    train_score.append(tscore) #adding train score at each C value to the list\n",
    "    validation_score.append(vscore) #adding validation score at each C value to the list"
   ]
  },
  {
   "cell_type": "code",
   "execution_count": 6,
   "metadata": {},
   "outputs": [
    {
     "data": {
      "image/png": "[encoded data removed]",
      "text/plain": [
       "<Figure size 432x288 with 1 Axes>"
      ]
     },
     "metadata": {
      "needs_background": "light"
     },
     "output_type": "display_data"
    }
   ],
   "source": [
    "# plotting the model accuracy at each C value\n",
    "\n",
    "plt.figure()\n",
    "plt.plot(C_values, train_score, label='Train data score', marker='.')\n",
    "plt.plot(C_values, validation_score, label='Validation data score', marker='.')\n",
    "plt.xscale('log')\n",
    "plt.xlabel('C')\n",
    "plt.ylabel('Accuracy')\n",
    "plt.legend()\n",
    "plt.show()"
   ]
  },
  {
   "cell_type": "markdown",
   "metadata": {},
   "source": [
    "- Based on this plot, it seems that at C = 10, the model achieved best performance.\n",
    "\n",
    "- Using this information, we can take the test data and evaluate model's accuracy on the unseen data. For the final logistic regression with C=10, we actually retrain the model on Train+Validation data aka _remainder data_ and then get the prediction on test set"
   ]
  },
  {
   "cell_type": "code",
   "execution_count": 7,
   "metadata": {},
   "outputs": [
    {
     "data": {
      "text/plain": [
       "0.9736842105263158"
      ]
     },
     "execution_count": 7,
     "metadata": {},
     "output_type": "execute_result"
    }
   ],
   "source": [
    "final_logreg = LogisticRegression(C=10, random_state=1)\n",
    "\n",
    "# X_remainder, y_remainder held the original split data\n",
    "final_logreg.fit(X_remainder, y_remainder)\n",
    "\n",
    "# scoring on test set\n",
    "final_logreg.score(X_test, y_test)"
   ]
  },
  {
   "cell_type": "markdown",
   "metadata": {},
   "source": [
    "#### Summary of the parameter optimization workflow\n",
    "\n",
    "**Step1**: Split the original data into training and test set, keep the test set aside.\n",
    "\n",
    "**Step2**: Split the training set further in train componet and validation component. Here train component acts as original training set and validation set act as the test set.\n",
    "\n",
    "**Step3**: Fit the model on the train component and choose the best parameter using the validation component.\n",
    "\n",
    "**Step4**: Using the chosen paramter, refit the model with original splitted training set and check the model's performance using the unseen test set."
   ]
  },
  {
   "cell_type": "markdown",
   "metadata": {},
   "source": [
    "### Cross-validation"
   ]
  },
  {
   "cell_type": "markdown",
   "metadata": {},
   "source": [
    "- In the above implementation, I had divided the train-validation in 70-30 ratio. I could have very well chosen a different ratio split and achieved another hyperparameter. So, how we divide out data between train and validation can have an impact on the parameter seclection and hence the overall model performance. \n",
    "\n",
    "- In general, we can't be sure that the split we decide is going to be the optimal split to get the best parameter. So, we can try combination of every possible split. This is in reality an impractical approach, so we instead utilize **K-fold cross validation** technique."
   ]
  },
  {
   "cell_type": "markdown",
   "metadata": {},
   "source": [
    "**K-fold Cross Validation**\n",
    "\n",
    "    - We first partition the training data into 'K' groups.\n",
    "    \n",
    "    - We try every division between the train and validation where train set contain K-1 of the groups while the validation set contain the 1 remaining group.\n",
    "    \n",
    "    - To evaluate the model, we take the 'average' over all the validation set.\n",
    "    \n",
    "    - Since we limit to validation sets containing only 1 group, we only have K potential splits.\n",
    "    \n",
    "    - Eg: for a 5-fold cross validation, the model is firred to each train set and scored on validation set for each split, generating 5 scores. The average of all 5 scores is taken as the final evaluation on the validation set."
   ]
  },
  {
   "cell_type": "markdown",
   "metadata": {},
   "source": [
    "**Implementation**\n",
    "\n",
    "Let's use the same dataset"
   ]
  },
  {
   "cell_type": "code",
   "execution_count": 8,
   "metadata": {},
   "outputs": [],
   "source": [
    "from sklearn.model_selection import cross_val_score #function to implement K-fold CV"
   ]
  },
  {
   "cell_type": "code",
   "execution_count": 9,
   "metadata": {},
   "outputs": [],
   "source": [
    "# split the data to keep test set aside\n",
    "\n",
    "X_remainder, X_test, y_remainder, y_test = train_test_split(X,y, test_size = 0.2, random_state = 42)"
   ]
  },
  {
   "cell_type": "markdown",
   "metadata": {},
   "source": [
    "- **We no longer to further split the training data into train+validation. cross_val_score does this automatically**"
   ]
  },
  {
   "cell_type": "code",
   "execution_count": 12,
   "metadata": {},
   "outputs": [
    {
     "name": "stdout",
     "output_type": "stream",
     "text": [
      "[0.97802198 0.9010989  0.96703297 0.95604396 0.9010989 ]\n"
     ]
    }
   ],
   "source": [
    "# Let's do a 5-fold cv\n",
    "\n",
    "logreg = LogisticRegression(random_state=42)\n",
    "score = cross_val_score(logreg, X_remainder, y_remainder, cv=5)\n",
    "print(score)"
   ]
  },
  {
   "cell_type": "markdown",
   "metadata": {},
   "source": [
    "- **This provided the score on each of the 5 validation splits. To get average score:**"
   ]
  },
  {
   "cell_type": "code",
   "execution_count": 13,
   "metadata": {},
   "outputs": [
    {
     "name": "stdout",
     "output_type": "stream",
     "text": [
      "Average score: 0.9406593406593406\n"
     ]
    }
   ],
   "source": [
    "print(f'Average score: {np.mean(score)}')"
   ]
  },
  {
   "cell_type": "markdown",
   "metadata": {},
   "source": [
    "### K-fold cross validation for hyperparameter tuning"
   ]
  },
  {
   "cell_type": "markdown",
   "metadata": {},
   "source": [
    "- To actually use cross validation for model selection and hyperparameter optimization, we need to evaluate all model resulting from changing hyperparameter values we are considering on each of the folds. The choice of hyperparameter then comes down to the value with the highest cross validation score."
   ]
  },
  {
   "cell_type": "code",
   "execution_count": 15,
   "metadata": {},
   "outputs": [],
   "source": [
    "crossvalscore = []\n",
    "\n",
    "C_values = np.array([.00000001,.0000001,.000001,.00001,.0001,.001,0.1,\\\n",
    "                1,10,100,1000,10000,100000,1000000,10000000,100000000,1000000000])\n",
    "\n",
    "for value in C_values:\n",
    "    \n",
    "    logreg = LogisticRegression(C = value, random_state=42)\n",
    "    \n",
    "    #5-fold cv at each C value, generating 5 different scores\n",
    "    score = cross_val_score(logreg, X_remainder, y_remainder, cv=5)\n",
    "    \n",
    "    #taking average score from 5 scores at each C value\n",
    "    avgscore = np.mean(score)\n",
    "    \n",
    "    #adding the average score to the list\n",
    "    crossvalscore.append(avgscore)"
   ]
  },
  {
   "cell_type": "code",
   "execution_count": 16,
   "metadata": {},
   "outputs": [
    {
     "name": "stdout",
     "output_type": "stream",
     "text": [
      "[0.7428571428571429, 0.8659340659340659, 0.9010989010989011, 0.9164835164835164, 0.9142857142857144, 0.9252747252747253, 0.9318681318681319, 0.9406593406593406, 0.9428571428571428, 0.9472527472527472, 0.945054945054945, 0.9472527472527472, 0.9494505494505494, 0.9494505494505494, 0.9428571428571428, 0.9428571428571428, 0.9472527472527472]\n"
     ]
    }
   ],
   "source": [
    "print(crossvalscore)"
   ]
  },
  {
   "cell_type": "code",
   "execution_count": 19,
   "metadata": {},
   "outputs": [
    {
     "data": {
      "image/png": "[encoded data removed]",
      "text/plain": [
       "<Figure size 432x288 with 1 Axes>"
      ]
     },
     "metadata": {
      "needs_background": "light"
     },
     "output_type": "display_data"
    }
   ],
   "source": [
    "# plotting\n",
    "\n",
    "plt.figure()\n",
    "plt.plot(C_values, crossvalscore, marker='o')\n",
    "plt.xlabel('C')\n",
    "plt.ylabel('Avg. Cross Validation Score')\n",
    "plt.xscale('log')\n",
    "plt.grid()\n",
    "plt.show();"
   ]
  },
  {
   "cell_type": "markdown",
   "metadata": {},
   "source": [
    "- With 5-fold CV, the most optimal parameter to get the best score is at C = 10^5 or 1000000\n",
    "\n",
    "- Because we've taken into consideration 5 different splits, we can be more confident that the model with this hyperparameter is the one that fits the data the best"
   ]
  },
  {
   "cell_type": "code",
   "execution_count": 20,
   "metadata": {},
   "outputs": [
    {
     "data": {
      "text/plain": [
       "0.956140350877193"
      ]
     },
     "execution_count": 20,
     "metadata": {},
     "output_type": "execute_result"
    }
   ],
   "source": [
    "# Evaluating on the test set\n",
    "\n",
    "final_logreg = LogisticRegression(C=1000000, random_state=1)\n",
    "\n",
    "# X_remainder, y_remainder held the original split data\n",
    "final_logreg.fit(X_remainder, y_remainder)\n",
    "\n",
    "# scoring on test set\n",
    "final_logreg.score(X_test, y_test)"
   ]
  },
  {
   "cell_type": "markdown",
   "metadata": {},
   "source": [
    "# PIPELINES"
   ]
  },
  {
   "cell_type": "markdown",
   "metadata": {},
   "source": [
    "The general steps in creating a machine learning model:\n",
    "\n",
    "- Get the data\n",
    "- Clean the data\n",
    "- Splitting the data into test and train sets\n",
    "- Scaling the data\n",
    "- Feature extraction and creation\n",
    "- Choosing and fitting a model\n",
    "- Cross-validation\n",
    "- Scoring\n",
    "\n",
    "With this number of steps, we are starting to risk mistakes - what if we accidentally mess up our splitting, and train on some of our validation data?\n",
    "\n",
    "What happens when we want to change a step? What if we want to run it all at once every time? What if we want to carry out a parameter search on a step early in the process?\n",
    "\n",
    "We can build a pipeline that consists of any number of transformers, and each model will be run with the 'transform' method of all steps, except with the fit of the terminal one.\n",
    "\n",
    "Using a pipeline, we can make sure that all of our steps are carried out, with the same parameters, and in the same order."
   ]
  },
  {
   "cell_type": "markdown",
   "metadata": {},
   "source": [
    "**Implementation**\n",
    "\n",
    "Let's use the same dataset"
   ]
  },
  {
   "cell_type": "code",
   "execution_count": 23,
   "metadata": {},
   "outputs": [],
   "source": [
    "# creating a pipeline to fit scaler, dimensional reduction using logistic regression\n",
    "\n",
    "from sklearn.pipeline import Pipeline\n",
    "from sklearn.preprocessing import StandardScaler\n",
    "from sklearn.decomposition import PCA\n",
    "\n",
    "# we give the estimators as a list of tuples: name, function\n",
    "estimators = [('scaler', StandardScaler()),\n",
    "              ('PCA', PCA(n_components=2)),\n",
    "              ('model', LogisticRegression())]\n",
    "\n",
    "# creating an instance of Pipline\n",
    "my_pipe = Pipeline(estimators)\n"
   ]
  },
  {
   "cell_type": "markdown",
   "metadata": {},
   "source": [
    "- The my_pipe object transform on each object, passing the output to the next step.\n",
    "\n"
   ]
  },
  {
   "cell_type": "code",
   "execution_count": 24,
   "metadata": {},
   "outputs": [
    {
     "name": "stdout",
     "output_type": "stream",
     "text": [
      "Cross validation scores: [0.92307692 0.93406593 0.95604396 0.94505495 0.93406593]\n",
      "Average Cross validation score: 0.9384615384615385\n"
     ]
    }
   ],
   "source": [
    "# creating 5-fold cv\n",
    "\n",
    "score = cross_val_score(my_pipe, X_remainder, y_remainder, cv=5)\n",
    "print(f'Cross validation scores: {score}')\n",
    "print(f'Average Cross validation score: {np.mean(score)}')"
   ]
  },
  {
   "cell_type": "markdown",
   "metadata": {},
   "source": [
    "- The final step is to use fit method to automate the entire process."
   ]
  },
  {
   "cell_type": "code",
   "execution_count": 25,
   "metadata": {},
   "outputs": [
    {
     "name": "stdout",
     "output_type": "stream",
     "text": [
      "Train score: 0.9472527472527472\n",
      "Test score: 0.9912280701754386\n"
     ]
    }
   ],
   "source": [
    "# fitting on the training data\n",
    "my_pipe.fit(X_remainder, y_remainder)\n",
    "\n",
    "print(f'Train score: {my_pipe.score(X_remainder, y_remainder)}')\n",
    "print(f'Test score: {my_pipe.score(X_test, y_test)}')\n"
   ]
  },
  {
   "cell_type": "markdown",
   "metadata": {},
   "source": [
    "# Grid Searching"
   ]
  },
  {
   "cell_type": "markdown",
   "metadata": {},
   "source": [
    "- As models have various hyperparameters, we can use GridSearchCV function from Scikit-learn to automate the process of selecting the best hyperparameter for a particular model.\n",
    "\n",
    "- We can also employ the pipelines to define various hyperparameters and then use the GridSearchCV to test the combination of parameters to see which will give us the best score on the metrics.\n",
    "\n",
    "- Besides hyperparameters, this can also be used to select the best model!"
   ]
  },
  {
   "cell_type": "markdown",
   "metadata": {},
   "source": [
    "**Implementation**\n",
    "\n",
    " - Using the same dataset, fitting a GridSearchCV using atleast two scalers, two dimensional reducers and three classifiers."
   ]
  },
  {
   "cell_type": "code",
   "execution_count": 29,
   "metadata": {},
   "outputs": [],
   "source": [
    "from sklearn.linear_model import LogisticRegression\n",
    "from sklearn.svm import SVC\n",
    "from sklearn.tree import DecisionTreeClassifier\n",
    "from sklearn.decomposition import KernelPCA\n",
    "\n",
    "# importing GridSearchCV\n",
    "from sklearn.model_selection import GridSearchCV"
   ]
  },
  {
   "cell_type": "markdown",
   "metadata": {},
   "source": [
    " - We want to choose 3 models, 2 scalers, 2 dimensional reducers. To do this, we need to pass in the parameters to GridsearchCV as a dictionary in the format **{'stepname_param':[values]}**"
   ]
  },
  {
   "cell_type": "code",
   "execution_count": 27,
   "metadata": {},
   "outputs": [],
   "source": [
    "# Create placeholder pipeline for all three steps\n",
    "\n",
    "estimators = [('scaler', StandardScaler()),\n",
    "              ('dim_reducer', PCA()),\n",
    "              ('model', LogisticRegression())]\n",
    "\n",
    "my_pipe = Pipeline(estimators)"
   ]
  },
  {
   "cell_type": "code",
   "execution_count": 30,
   "metadata": {},
   "outputs": [],
   "source": [
    "# Since each model has different parameters, they each have to go in a separate dictionary\n",
    "\n",
    "param_grid = [\n",
    "{'scaler':[StandardScaler(), None],\n",
    " 'dim_reducer':[PCA(), KernelPCA()],\n",
    " 'model':[SVC()],\n",
    " 'model__gamma':[0.001, 0.01, 0.1, 1, 10, 100],\n",
    " 'model__C': [0.001, 0.01, 0.1, 1, 10, 100],\n",
    " 'dim_reducer__n_components':[2,3,4]},\n",
    "{'scaler':[StandardScaler(), None],\n",
    " 'dim_reducer':[PCA(), KernelPCA()],\n",
    " 'model':[LogisticRegression(solver='saga')],\n",
    " 'model__C':[0.001, 0.01, 0.1, 1, 10, 100],\n",
    " 'model__penalty':['l1','l2'],\n",
    " 'dim_reducer__n_components':[2,3,4]},\n",
    "{'scaler':[StandardScaler(),None],\n",
    " 'dim_reducer': [PCA(), KernelPCA()],\n",
    " 'model': [DecisionTreeClassifier()], \n",
    " 'model__max_depth': [1,2,3,4],\n",
    " 'model__min_samples_leaf': [2, 10],\n",
    " 'dim_reducer__n_components': [2,3,4]}]"
   ]
  },
  {
   "cell_type": "code",
   "execution_count": 32,
   "metadata": {},
   "outputs": [],
   "source": [
    "# instantiating GridSearchCV\n",
    "\n",
    "grid = GridSearchCV(my_pipe, param_grid, cv=5)"
   ]
  },
  {
   "cell_type": "markdown",
   "metadata": {},
   "source": [
    "- We now have a grid search object with which we can fit to our data, and find the values for multiple parameters."
   ]
  },
  {
   "cell_type": "code",
   "execution_count": 33,
   "metadata": {},
   "outputs": [],
   "source": [
    "fittedgrid = grid.fit(X_remainder, y_remainder)"
   ]
  },
  {
   "cell_type": "markdown",
   "metadata": {},
   "source": [
    "- The fitted search is the best found model, based on its cross-validation score in the grid search.\n",
    "\n",
    "- We can predict and score using the object:"
   ]
  },
  {
   "cell_type": "code",
   "execution_count": 34,
   "metadata": {},
   "outputs": [
    {
     "data": {
      "text/plain": [
       "0.956140350877193"
      ]
     },
     "execution_count": 34,
     "metadata": {},
     "output_type": "execute_result"
    }
   ],
   "source": [
    "fittedgrid.score(X_test, y_test)"
   ]
  },
  {
   "cell_type": "markdown",
   "metadata": {},
   "source": [
    "- And get out the best parameters:"
   ]
  },
  {
   "cell_type": "code",
   "execution_count": 35,
   "metadata": {},
   "outputs": [
    {
     "data": {
      "text/plain": [
       "{'dim_reducer': PCA(copy=True, iterated_power='auto', n_components=4, random_state=None,\n",
       "     svd_solver='auto', tol=0.0, whiten=False),\n",
       " 'dim_reducer__n_components': 4,\n",
       " 'model': SVC(C=10, break_ties=False, cache_size=200, class_weight=None, coef0=0.0,\n",
       "     decision_function_shape='ovr', degree=3, gamma=0.01, kernel='rbf',\n",
       "     max_iter=-1, probability=False, random_state=None, shrinking=True,\n",
       "     tol=0.001, verbose=False),\n",
       " 'model__C': 10,\n",
       " 'model__gamma': 0.01,\n",
       " 'scaler': StandardScaler(copy=True, with_mean=True, with_std=True)}"
      ]
     },
     "execution_count": 35,
     "metadata": {},
     "output_type": "execute_result"
    }
   ],
   "source": [
    "fittedgrid.best_params_"
   ]
  },
  {
   "cell_type": "code",
   "execution_count": null,
   "metadata": {},
   "outputs": [],
   "source": []
  }
 ],
 "metadata": {
  "kernelspec": {
   "display_name": "Python 3",
   "language": "python",
   "name": "python3"
  },
  "language_info": {
   "codemirror_mode": {
    "name": "ipython",
    "version": 3
   },
   "file_extension": ".py",
   "mimetype": "text/x-python",
   "name": "python",
   "nbconvert_exporter": "python",
   "pygments_lexer": "ipython3",
   "version": "3.7.6"
  }
 },
 "nbformat": 4,
 "nbformat_minor": 4
}
